{
 "cells": [
  {
   "cell_type": "markdown",
   "id": "a47bb56f",
   "metadata": {},
   "source": [
    "# writers\n",
    "\n",
    "The Midgard **writers** module can be used for writing files. For example following file formats are available via Midgard:\n",
    "\n",
    "- Bernese station information file in *.STA format\n",
    "- GipsyX site information file\n",
    "- GAMIT station information file\n",
    "- ...\n",
    "\n",
    "All available writers can be shown with `names` method:"
   ]
  },
  {
   "cell_type": "code",
   "execution_count": null,
   "id": "b009a3ff",
   "metadata": {},
   "outputs": [],
   "source": [
    "# Import writers package\n",
    "from midgard import writers\n",
    "\n",
    "# List all available writers\n",
    "writers.names()"
   ]
  },
  {
   "cell_type": "markdown",
   "id": "45cf5cba",
   "metadata": {},
   "source": [
    "## Use of station information file writers \n",
    "\n",
    "Following station information file writers exists:\n",
    "\n",
    "| Writer name        | Description |\n",
    "|:------------------ | :-----------|\n",
    "| bernese_abb        | Bernese station abbreviation table in *.ABB format |\n",
    "| bernese_clu        | Bernese station list file in *.CLU format |\n",
    "| bernese_crd        | Bernese station coordinate file in *.CRD format | \n",
    "| bernese_sta        | Bernese station information file in *.STA format |\n",
    "| bernese_vel        | Bernese station velocity file in *.VEL format |\n",
    "| gamit_apr_eq       | GAMIT station coordinates files in *.apr and *.eq format |\n",
    "| gamit_station_info | GAMIT station information file |\n",
    "| gipsyx_site_info   | GipsyX station information file |\n",
    "\n",
    "As a first step the input data has to be generated for the writers. That means station information has to be collected from one or more of the following sources:\n",
    "\n",
    "| Source             | Parser name | Description |\n",
    "|:------------------ | :-----------| :-----------|\n",
    "| SINEX              | sinex_site  | Station information given in SINEX format files, which can inlude information about antenna, receiver, eccentricity and station coordinates (like https://files.igs.org/pub/station/general/igs.snx) | \n",
    "| SSC                | ssc_site    |Station coordinate and velocity is given in SSC format files (like https://itrf.ign.fr/docs/solutions/itrf2014/ITRF2014_GNSS.SSC.txt) |\n",
    "| M3G                | m3g         | M3G application programming interface (API) from https://gnss-metadata.eu/site/api-docs. The M3G is a metadata management and distribution system for multiple GNSS networks (https://gnss-metadata.eu), which is accessable via M3G application programming interface (API).  |\n",
    "\n",
    "Midgard **parsers** can be used to read SSC/SINEX files and the **site_info** module to access the M3G API. In the following a SSC and a SINEX file are read as **source_data**. These **source_data** are applied to initialize a Midgard **site_info** object. Midgard **site_info** class provides a data structure to save relevant station information. "
   ]
  },
  {
   "cell_type": "code",
   "execution_count": 49,
   "id": "75a4cdd0",
   "metadata": {},
   "outputs": [
    {
     "name": "stdout",
     "output_type": "stream",
     "text": [
      "{'brux': {'antenna': AntennaHistorySinex(station='brux'),\n",
      "          'eccentricity': EccentricityHistorySinex(station='brux'),\n",
      "          'identifier': IdentifierSinex(station='brux', ),\n",
      "          'receiver': ReceiverHistorySinex(station='brux'),\n",
      "          'site_coord': SiteCoordHistorySinex(station='brux')},\n",
      " 'pots': {'antenna': AntennaHistorySinex(station='pots'),\n",
      "          'eccentricity': EccentricityHistorySinex(station='pots'),\n",
      "          'identifier': IdentifierSinex(station='pots', ),\n",
      "          'receiver': ReceiverHistorySinex(station='pots'),\n",
      "          'site_coord': SiteCoordHistorySinex(station='pots')},\n",
      " 'zimm': {'antenna': AntennaHistorySinex(station='zimm'),\n",
      "          'eccentricity': EccentricityHistorySinex(station='zimm'),\n",
      "          'identifier': IdentifierSinex(station='zimm', ),\n",
      "          'receiver': ReceiverHistorySinex(station='zimm'),\n",
      "          'site_coord': SiteCoordHistorySinex(station='zimm')}}\n"
     ]
    }
   ],
   "source": [
    "# Standard library import\n",
    "from datetime import datetime\n",
    "from pprint import pprint # Used to print variables more pretty\n",
    "\n",
    "# Import Midgard parsers\n",
    "from midgard import parsers\n",
    "\n",
    "# Import SiteCoord class\n",
    "from midgard.site_info.site_info import SiteInfo\n",
    "\n",
    "# Read station information (antenna, receiver, eccentricity) from SINEX file\n",
    "p_snx = parsers.parse_file(\n",
    "            parser_name=\"sinex_site\", \n",
    "            file_path=\"../tests/parsers/example_files/sinex_site\",\n",
    ")\n",
    "\n",
    "# Read station coordinates/velocities from SSC file\n",
    "p_ssc = parsers.parse_file(\n",
    "            parser_name=\"ssc_site\", \n",
    "            file_path=\"../tests/parsers/example_files/ssc_site\",\n",
    ")\n",
    "\n",
    "# Get station dictionary of SiteInfo instance for SINEX source\n",
    "site_info = SiteInfo.get(\n",
    "            source=\"snx\", # File type specifier: snx = SINEX; ssc = SSC\n",
    "            source_data=p_snx.as_dict(),\n",
    "            stations=p_snx.as_dict().keys(), # List with station identifiers\n",
    "            source_path=p_snx.file_path,\n",
    ")\n",
    "\n",
    "# Get station dictionary of SiteInfo instance for SSC source\n",
    "site_info_ssc = SiteInfo.get(\n",
    "            source=\"ssc\", # File type specifier: snx = SINEX; ssc = SSC\n",
    "            source_data=p_ssc.as_dict(),\n",
    "            stations=p_ssc.as_dict().keys(), # List with station identifiers\n",
    "            source_path=p_ssc.file_path,\n",
    ")\n",
    "\n",
    "# Show site_info dictionary\n",
    "pprint(site_info)"
   ]
  },
  {
   "cell_type": "markdown",
   "id": "c2df63c8",
   "metadata": {},
   "source": [
    "The SINEX files like **igs.snx** or **euref.snx** include only approximated station coordinates. Therefore we read in addition the SSC file with precise coordinates and velocities. The SINEX **site_info** dictionary will now be updated with the **site_coord** objects of the SSC **site_info_ssc** dictionary."
   ]
  },
  {
   "cell_type": "code",
   "execution_count": 51,
   "id": "6e585647",
   "metadata": {},
   "outputs": [
    {
     "name": "stdout",
     "output_type": "stream",
     "text": [
      "{'brux': {'antenna': AntennaHistorySinex(station='brux'),\n",
      "          'eccentricity': EccentricityHistorySinex(station='brux'),\n",
      "          'identifier': IdentifierSinex(station='brux', ),\n",
      "          'receiver': ReceiverHistorySinex(station='brux'),\n",
      "          'site_coord': SiteCoordHistorySsc(station='brux')},\n",
      " 'pots': {'antenna': AntennaHistorySinex(station='pots'),\n",
      "          'eccentricity': EccentricityHistorySinex(station='pots'),\n",
      "          'identifier': IdentifierSinex(station='pots', ),\n",
      "          'receiver': ReceiverHistorySinex(station='pots'),\n",
      "          'site_coord': SiteCoordHistorySsc(station='pots')},\n",
      " 'zimm': {'antenna': AntennaHistorySinex(station='zimm'),\n",
      "          'eccentricity': EccentricityHistorySinex(station='zimm'),\n",
      "          'identifier': IdentifierSinex(station='zimm', ),\n",
      "          'receiver': ReceiverHistorySinex(station='zimm'),\n",
      "          'site_coord': SiteCoordHistorySsc(station='zimm')}}\n"
     ]
    }
   ],
   "source": [
    "# Update SINEX source with station coordinates/velocities from SSC source\n",
    "for sta in site_info.keys():\n",
    "    site_info[sta][\"site_coord\"] = site_info_ssc[sta][\"site_coord\"]\n",
    "    \n",
    "# Show site_info dictionary\n",
    "pprint(site_info)"
   ]
  },
  {
   "cell_type": "markdown",
   "id": "80a98ba7",
   "metadata": {},
   "source": [
    "The last step is to use the **site_info** dictionary for writing the station information in different formats with the writers like **bernese_crd**, **bernese_sta**, **gamit_station_info** or **gipsyx_site_info**."
   ]
  },
  {
   "cell_type": "code",
   "execution_count": null,
   "id": "65db1063",
   "metadata": {},
   "outputs": [],
   "source": [
    "# Import writer\n",
    "from midgard.writers.bernese_crd import bernese_crd\n",
    "from midgard.writers.bernese_sta import bernese_sta\n",
    "from midgard.writers.gamit_station_info import gamit_station_info\n",
    "from midgard.writers.gipsyx_site_info import gipsyx_site_info\n",
    "\n",
    "# Use bernese_crd writer\n",
    "bernese_crd(\n",
    "    file_path=\"./examples/writers/BERNESE.CRD\",\n",
    "    site_info=site_info,\n",
    "    datum=\"IGb14\", # Reference system of station coordinates\n",
    "    epoch=datetime(2010,1,1), # Reference epoch of station coordinates\n",
    "    agency=\"NMA\",\n",
    ")\n",
    "\n",
    "# Display output file\n",
    "from IPython.display import Code\n",
    "Code(filename='./examples/writers/BERNESE.CRD', language='python')"
   ]
  },
  {
   "cell_type": "code",
   "execution_count": null,
   "id": "12ef8d51",
   "metadata": {},
   "outputs": [],
   "source": [
    "# Use bernese_vel writer\n",
    "bernese_vel(\n",
    "    file_path=\"./examples/writers/BERNESE.VEL\",\n",
    "    site_info=site_info,\n",
    "    datum=\"IGb14\", # Reference system of station velocities\n",
    "    agency=\"NMA\",\n",
    ")\n",
    "\n",
    "# Display output file\n",
    "from IPython.display import Code\n",
    "Code(filename='./examples/writers/BERNESE.VEL', language='python')"
   ]
  },
  {
   "cell_type": "markdown",
   "id": "4b4af831",
   "metadata": {},
   "source": [
    "## Use writers module with bernese_sta writer\n",
    "\n",
    "An example is shown, how to use the **writers** module. As a first step the input data has to be generated, in this example for the **bernese_sta** writer. The **bernese_sta** writer needs station information as input, which we generate by using the M3G application programming interface (API) from https://gnss-metadata.eu/site/api-docs. The M3G is a metadata management and distribution system for multiple GNSS networks (https://gnss-metadata.eu), which is accessable via M3G application programming interface (API). The M3G API is accessed via the Midgard **site_info.m3g** wrapper (see also at the **site_info** Jupyter notebook for more information)."
   ]
  },
  {
   "cell_type": "code",
   "execution_count": null,
   "id": "ef1f4f5e",
   "metadata": {
    "scrolled": true
   },
   "outputs": [],
   "source": [
    "# Standard library import\n",
    "from datetime import datetime\n",
    "\n",
    "# Import M3G API wrapper\n",
    "from midgard.site_info import m3g\n",
    "\n",
    "# Import SiteCoord class\n",
    "from midgard.site_info.site_info import SiteInfo\n",
    "\n",
    "# Get instance of M3gApi class\n",
    "api = m3g.api.M3gApi()\n",
    "\n",
    "# Get sitelog information from BRUX00BEL station in M3G database\n",
    "source_data = dict()\n",
    "m3g_brux = api.get_sitelog(filter={\"id\":{\"like\":\"BRUX00BEL\"}})[0]\n",
    "source_data[\"BRUX\"] = {\"BRUX00BEL\": m3g_brux}"
   ]
  },
  {
   "cell_type": "markdown",
   "id": "9f0b2d48",
   "metadata": {},
   "source": [
    "As a next step the generated **source data** are applied to initialize a Midgard **site_info** object. Midgard **site_info** class provides a data structure to save relevant station information. "
   ]
  },
  {
   "cell_type": "code",
   "execution_count": null,
   "id": "cc6d5406",
   "metadata": {},
   "outputs": [],
   "source": [
    "# Get station dictionary of SiteInfo instance \n",
    "site_info = SiteInfo.get(\n",
    "            source=\"m3g\", \n",
    "            source_data=source_data,\n",
    "            stations=\"brux\",\n",
    "            source_path=api.url,\n",
    ")"
   ]
  },
  {
   "cell_type": "markdown",
   "id": "0ef17bb6",
   "metadata": {},
   "source": [
    "The last step is to use the **site_info** object for writing the Bernese station information file via the **bernese_sta** writer."
   ]
  },
  {
   "cell_type": "code",
   "execution_count": null,
   "id": "d7116236",
   "metadata": {},
   "outputs": [],
   "source": [
    "# Standard library import\n",
    "from datetime import datetime\n",
    "\n",
    "# Import Midgard parsers\n",
    "from midgard import parsers\n",
    "\n",
    "# Import SiteCoord class\n",
    "from midgard.site_info.site_info import SiteInfo\n",
    "\n",
    "# Read station information SINEX file\n",
    "p = parsers.parse_file(\n",
    "            parser_name=\"sinex_site\", \n",
    "            file_path=\"../tests/parsers/example_files/sinex_site\",\n",
    ")\n",
    "\n",
    "# Get station dictionary of SiteInfo instance \n",
    "site_info = SiteInfo.get(\n",
    "            source=\"snx\", # File type specifier: snx = SINEX; ssc = SSC\n",
    "            source_data=p.as_dict(),\n",
    "            stations=p.as_dict().keys(), # List with station identifiers\n",
    "            source_path=p.file_path,\n",
    ")"
   ]
  },
  {
   "cell_type": "code",
   "execution_count": null,
   "id": "c1d07433",
   "metadata": {
    "scrolled": true
   },
   "outputs": [],
   "source": [
    "# Import writer\n",
    "from midgard.writers.bernese_sta import bernese_sta\n",
    "\n",
    "# Use bernese_sta writer\n",
    "bernese_sta(\n",
    "    file_path=\"./examples/writers/BERNESE.STA\",\n",
    "    site_info=site_info,\n",
    "    agency=\"NMA\", # Agency which uses this file for processing\n",
    ")\n",
    "\n",
    "# Display output file\n",
    "from IPython.display import Code\n",
    "Code(filename='./examples/writers/BERNESE.STA', language='python')"
   ]
  },
  {
   "cell_type": "code",
   "execution_count": null,
   "id": "7c19ae29",
   "metadata": {},
   "outputs": [],
   "source": []
  }
 ],
 "metadata": {
  "kernelspec": {
   "display_name": "Python 3 (ipykernel)",
   "language": "python",
   "name": "python3"
  },
  "language_info": {
   "codemirror_mode": {
    "name": "ipython",
    "version": 3
   },
   "file_extension": ".py",
   "mimetype": "text/x-python",
   "name": "python",
   "nbconvert_exporter": "python",
   "pygments_lexer": "ipython3",
   "version": "3.9.12"
  }
 },
 "nbformat": 4,
 "nbformat_minor": 5
}
