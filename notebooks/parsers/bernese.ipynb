{
 "cells": [
  {
   "cell_type": "markdown",
   "metadata": {},
   "source": [
    "# Bernese parsers\n",
    "\n",
    "Bernese is a scientific, high-precision, multi-GNSS data processing software developed at the Astronomical Institute of the University of Bern (AIUB) [[https://www.bernese.unibe.ch/](https://www.bernese.unibe.ch/)]. Bernese uses specific formats in the analysis. Midgard provides following Bernese parsers for reading certain Bernese formats:\n",
    "\n",
    "| Parser name        | Description                        |\n",
    "| :------------------| :--------------------------------- |\n",
    "| bernese_clu        | Bernese cluster file |\n",
    "| bernese_compar_out | Bernese coordinate comparison file | \n",
    "| bernese_crd        | Bernese station coordinate file |\n",
    "| bernese_prc        | Bernese protocol file |\n",
    "| bernese_slr_plt    | Bernese SLR plot file |\n",
    "| bernese_sta        | Bernese station information file |\n",
    "| bernese_trp        | Bernese troposphere solution file |"
   ]
  },
  {
   "cell_type": "markdown",
   "metadata": {},
   "source": [
    "## Use of bernese_crd parser\n",
    "\n",
    "An example is shown, how to use the **bernese_crd** parser:"
   ]
  },
  {
   "cell_type": "code",
   "execution_count": 1,
   "metadata": {},
   "outputs": [],
   "source": [
    "# Import parsers package\n",
    "from midgard import parsers\n",
    "\n",
    "# Import unit package for unit conversion\n",
    "from midgard.math.unit import Unit\n",
    "\n",
    "# Read file by generating an instance of a Parser class\n",
    "p = parsers.parse_file(parser_name=\"bernese_crd\", file_path=\"../../tests/parsers/example_files/bernese_crd\")\n",
    "\n",
    "# Generate dataset based on read file data\n",
    "dset = p.as_dataset()"
   ]
  },
  {
   "cell_type": "markdown",
   "metadata": {},
   "source": [
    "**dset** is a Midgard dataset with following data fields, which represents a column in the dataset:\n",
    "\n",
    "|  Field                   | Type           | Description                                                      |\n",
    "| :----------------------- | :------------- | :--------------------------------------------------------------- |\n",
    "| domes                    | numpy.ndarray  | Domes number                                                     |\n",
    "| flag                     | numpy.ndarray  | Station flag (see section 24.7.1 of Bernese GNSS software        |\n",
    "|                          |                | version 5.2, November 2015)                                      |\n",
    "| station                  | numpy.ndarray  | Station name                                                     |\n",
    "| site_pos                 | PositionTable  | Station coordinates given as PositionTable object                |\n"
   ]
  },
  {
   "cell_type": "code",
   "execution_count": null,
   "metadata": {},
   "outputs": [],
   "source": [
    "# Show dataset fields\n",
    "dset.fields"
   ]
  },
  {
   "cell_type": "markdown",
   "metadata": {},
   "source": [
    "The **site_pos** dataset field includes the station coordinates read from the Bernese CRD file. The **site_pos** field is an **Position** object with methods for conversion from geocentric coordinates (X, Y, Z) to geodetic coordinates (latitude, longitude, height) given in **radian** (see **position.ipynb** Jupyter notebook for more information)."
   ]
  },
  {
   "cell_type": "code",
   "execution_count": null,
   "metadata": {},
   "outputs": [],
   "source": [
    "for sta, lat, lon, height in zip(dset.station, dset.site_pos.llh.lat, dset.site_pos.llh.lon, dset.site_pos.llh.height):\n",
    "    print(f\"{sta.upper()}  LAT {lat*Unit.rad2deg:.4f} deg, LON {lon*Unit.rad2deg:.4f} deg, HEIGHT {lon*Unit.rad2deg:.4f} m\")"
   ]
  },
  {
   "cell_type": "markdown",
   "metadata": {},
   "source": [
    "In the following it is shown how to plot the station coordinates with **matplotlib** and **cartopy**:"
   ]
  },
  {
   "cell_type": "code",
   "execution_count": null,
   "metadata": {},
   "outputs": [],
   "source": [
    "# Import plotting modules\n",
    "# NOTE: THE CARTOPY MODULES ARE NOT PART OF MIDGARD INSTALLATION. THEY\n",
    "#       HAVE TO BE INSTALLED.\n",
    "import cartopy.crs as ccrs\n",
    "import cartopy.feature as cfeature\n",
    "import matplotlib.pyplot as plt\n",
    "from matplotlib.transforms import offset_copy\n",
    "\n",
    "# Initialize figure object\n",
    "fig = plt.figure(figsize=(6, 6))\n",
    "\n",
    "# Define projection\n",
    "projection = ccrs.Miller()\n",
    "ax = fig.add_subplot(1, 1, 1, projection=projection)\n",
    "\n",
    "# Limit the extent of the map to a small longitude/latitude range.\n",
    "ax.set_extent([0, 35, 50, 71], crs=ccrs.Geodetic())\n",
    "\n",
    "# Define mapping dataset\n",
    "dataset = cfeature.NaturalEarthFeature(\n",
    "    category=\"physical\",  # Category of dataset: <cultural|physical|raster>\n",
    "    name=\"land\",  # Name of dataset: <coastline, land, ocean, ...>\n",
    "    scale=\"50m\",  # Scale: <10m|50m|110m>\n",
    "    facecolor=\"lightgray\",\n",
    ")\n",
    "\n",
    "# Add features\n",
    "ax.add_feature(dataset)\n",
    "ax.coastlines(resolution=\"50m\", color=\"black\")\n",
    "\n",
    "# Use the cartopy interface to create a matplotlib transform object for the Geodetic\n",
    "# coordinate system. We will use this along with matplotlib's offset_copy function \n",
    "# to define a coordinate system which translates the text by 15 pixels to the right \n",
    "# and 10 pixels downwards.\n",
    "geodetic_transform = ccrs.Geodetic()._as_mpl_transform(ax)\n",
    "text_transform = offset_copy(geodetic_transform, units=\"dots\", x=+10, y=-10)\n",
    "\n",
    "# Plot station location\n",
    "for sta  in dset.unique(\"station\"):\n",
    "    idx = dset.filter(station=sta)\n",
    "    \n",
    "    # Add station markers\n",
    "    ax.plot(\n",
    "        dset.site_pos.llh.lon[idx] * Unit.rad2deg,\n",
    "        dset.site_pos.llh.lat[idx] * Unit.rad2deg,\n",
    "        marker=\"o\",\n",
    "        color=\"red\",\n",
    "        transform=ccrs.Geodetic(),\n",
    "    )\n",
    "    \n",
    "    # Add station text\n",
    "    ax.text(\n",
    "        dset.site_pos.llh.lon[idx] * Unit.rad2deg,\n",
    "        dset.site_pos.llh.lat[idx] * Unit.rad2deg,\n",
    "        f\"{sta.upper()}\",\n",
    "        verticalalignment=\"center\",\n",
    "        horizontalalignment=\"left\",\n",
    "        transform=text_transform,\n",
    "        bbox=dict(facecolor=\"white\", alpha=1, boxstyle=\"round\"),\n",
    "    )"
   ]
  },
  {
   "cell_type": "markdown",
   "metadata": {},
   "source": [
    "## Use of bernese_prc parser\n",
    "\n",
    "An example is shown, how to use the **bernese_prc** parser:\n"
   ]
  },
  {
   "cell_type": "code",
   "execution_count": 2,
   "metadata": {},
   "outputs": [],
   "source": [
    "# Import parsers package\n",
    "from midgard import parsers\n",
    "\n",
    "# Import unit package for unit conversion\n",
    "from midgard.math.unit import Unit\n",
    "\n",
    "# Read file by generating an instance of a Parser class\n",
    "p = parsers.parse_file(parser_name=\"bernese_prc\", file_path=\"../../tests/parsers/example_files/bernese_prc\")\n",
    "\n",
    "# Generate dataset based on read file data\n",
    "dset = p.as_dataset()"
   ]
  },
  {
   "cell_type": "markdown",
   "metadata": {},
   "source": [
    "**dset** is a Midgard dataset with following data fields, which represents a column in the dataset:\n",
    "\n",
    "|  Field                  | Type          | Description                                                       |\n",
    "| :---------------------- | :------------ | :---------------------------------------------------------------- |\n",
    "| coord_comp_east_day<x>  | numpy.ndarray | Station coordinate comparison results for East component in [m]   |\n",
    "|                         |               | for day X (X=[1,2,...,7])                                         |\n",
    "| coord_comp_north_day<x> | numpy.ndarray | Station coordinate comparison results for North component in [m]  |\n",
    "|                         |               | for day X (X=[1,2,...,7])                                         |\n",
    "| coord_comp_up_day<x>    | numpy.ndarray | Station coordinate comparison results for Up component in [m]     |\n",
    "|                         |               | for day X (X=[1,2,...,7])                                         |\n",
    "| coord_comp_rms_east     | numpy.ndarray | List with daily station coordinate comparison results for East    |\n",
    "|                         |               | component in [m]                                                  |\n",
    "| coord_comp_rms_north    | numpy.ndarray | List with daily station coordinate comparison results for North   |\n",
    "|                         |               | component in [m]                                                  |\n",
    "| coord_comp_rms_up       | numpy.ndarray | List with daily station coordinate comparison results for Up      |\n",
    "|                         |               | component in [m]                                                  |\n",
    "| num_of_days             | numpy.ndarray | Number of days used for analysis                                  |\n",
    "| pos_mean_x              | numpy.ndarray | X-coordinate of mean station coordinate position in [m]           |\n",
    "| pos_mean_x_rms1         | numpy.ndarray | RMS1 of X-coordinate of mean station coordinate position in [m]   |\n",
    "| pos_mean_x_rms2         | numpy.ndarray | RMS2 of X-coordinate of mean station coordinate position in [m]   |\n",
    "| pos_mean_y              | numpy.ndarray | Y-coordinate of mean station coordinate position in [m]           |\n",
    "| pos_mean_y_rms1         | numpy.ndarray | RMS1 of Y-coordinate of mean station coordinate position in [m]   |\n",
    "| pos_mean_y_rms2         | numpy.ndarray | RMS2 of Y-coordinate of mean station coordinate position in [m]   |\n",
    "| pos_mean_z              | numpy.ndarray | Z-coordinate of mean station coordinate position in [m]           |\n",
    "| pos_mean_z_rms1         | numpy.ndarray | RMS1 of Z-coordinate of mean station coordinate position in [m]   |\n",
    "| pos_mean_z_rms2         | numpy.ndarray | RMS2 of Z-coordinate of mean station coordinate position in [m]   |\n",
    "| repeatability_east      | numpy.ndarray | Station coordinate repeatability for East component in [m]        |\n",
    "| repeatability_north     | numpy.ndarray | Station coordinate repeatability for North component in [m]       |\n",
    "| repeatability_up        | numpy.ndarray | Station coordinate repeatability for Up component in [m]          |\n",
    "| residual_east           | numpy.ndarray | Station residuals for East component in [m]                       |\n",
    "| residual_north          | numpy.ndarray | Station residuals for North component in [m]                      |\n",
    "| residual_up             | numpy.ndarray | Station residuals for Up component in [m]                         |\n",
    "| station                 | numpy.ndarray | Station names                                                     |\n",
    "| time                    | TimeTable     | Date of analysis session                                          |"
   ]
  },
  {
   "cell_type": "markdown",
   "metadata": {},
   "source": [
    "In the following it is shown how to plot the RMS of comparison of coordinates station coordinates with **matplotlib**:"
   ]
  },
  {
   "cell_type": "code",
   "execution_count": 5,
   "metadata": {},
   "outputs": [
    {
     "data": {
      "text/plain": [
       "Text(0.5, 1.0, 'Residuals in local system')"
      ]
     },
     "execution_count": 5,
     "metadata": {},
     "output_type": "execute_result"
    },
    {
     "data": {
      "image/png": "[encoded data removed]",
      "text/plain": [
       "<Figure size 640x480 with 3 Axes>"
      ]
     },
     "metadata": {},
     "output_type": "display_data"
    }
   ],
   "source": [
    "# Import plotting module\n",
    "import matplotlib.pyplot as plt\n",
    "\n",
    "# Plot bar figure\n",
    "fig, axs = plt.subplots(3,1, sharey=True, layout=\"constrained\")\n",
    "axs[0].bar(dset.station, dset.residual_east * Unit.m2mm, color=\"steelblue\") \n",
    "axs[1].bar(dset.station, dset.residual_north * Unit.m2mm, color=\"darkorange\") \n",
    "axs[2].bar(dset.station, dset.residual_up * Unit.m2mm, color=\"limegreen\") \n",
    "axs[0].set_ylabel('East \\n resid. [mm]')\n",
    "axs[1].set_ylabel('North \\n resid. [mm]')\n",
    "axs[2].set_ylabel('Up \\n resid. [mm]')\n",
    "axs[0].set_title('Residuals in local system')"
   ]
  },
  {
   "cell_type": "code",
   "execution_count": null,
   "metadata": {},
   "outputs": [],
   "source": [
    "# Plot bar figure\n",
    "fig, axs = plt.subplots(3,1, sharey=True, layout=\"constrained\")\n",
    "axs[0].bar(dset.station, dset.repeatability_east * Unit.m2mm, color=\"steelblue\") \n",
    "axs[1].bar(dset.station, dset.repeatability_north * Unit.m2mm, color=\"darkorange\") \n",
    "axs[2].bar(dset.station, dset.repeatability_up * Unit.m2mm, color=\"limegreen\") \n",
    "axs[0].set_ylabel('East \\n repeat. [mm]')\n",
    "axs[1].set_ylabel('North \\n repeat. [mm]')\n",
    "axs[2].set_ylabel('Up \\n repeat. [mm]')\n",
    "axs[0].set_title('Coordinate repeatability for verification')"
   ]
  },
  {
   "cell_type": "code",
   "execution_count": null,
   "metadata": {},
   "outputs": [],
   "source": [
    "# Plot bar figure\n",
    "fig, axs = plt.subplots(3,1, sharey=True, layout=\"constrained\")\n",
    "axs[0].bar(dset.station, dset.coord_comp_rms_east * Unit.m2mm, color=\"steelblue\") \n",
    "axs[1].bar(dset.station, dset.coord_comp_rms_north * Unit.m2mm, color=\"darkorange\") \n",
    "axs[2].bar(dset.station, dset.coord_comp_rms_up * Unit.m2mm, color=\"limegreen\") \n",
    "axs[0].set_ylabel('East RMS [mm]')\n",
    "axs[1].set_ylabel('North RMS [mm]')\n",
    "axs[2].set_ylabel('Up RMS [mm]')\n",
    "axs[0].set_title('Comparison of coordinates')"
   ]
  },
  {
   "cell_type": "markdown",
   "metadata": {},
   "source": [
    "## Use of bernese_trp parser\n",
    "\n",
    "An example is shown, how to use the **bernese_trp** parser:"
   ]
  },
  {
   "cell_type": "code",
   "execution_count": 7,
   "metadata": {},
   "outputs": [],
   "source": [
    "# Import parsers package\n",
    "from midgard import parsers\n",
    "\n",
    "# Read file by generating an instance of a Parser class\n",
    "p = parsers.parse_file(parser_name=\"bernese_trp\", file_path=\"../../tests/parsers/example_files/bernese_trp\")\n",
    "\n",
    "# Generate dataset based on read file data\n",
    "dset = p.as_dataset()"
   ]
  },
  {
   "cell_type": "markdown",
   "metadata": {},
   "source": [
    "**dset** is a Midgard dataset with following data fields, which represents a column in the dataset:\n",
    "\n",
    "|  Field                    | Type           | Description                                                     |\n",
    "| :------------------------ | :------------- | :-------------------------------------------------------------- |\n",
    "| flag                      | numpy.ndarray  | Station flag (see section 24.7.1 of Bernese GNSS software       |\n",
    "|                           |                | version 5.2, November 2015)                                     |\n",
    "| station                   | numpy.ndarray  | Station name                                                    |\n",
    "| time                      | TimeTable      | Observation time given as TimeTable object                      |\n",
    "| trop_gradient_east        | numpy.ndarray  | Troposphere horizontal gradients in East/West direction in [m]  |\n",
    "| trop_gradient_east_sigma  | numpy.ndarray  | Standard deviation of troposphere horizontal gradients in       |\n",
    "|                           |                | East/West direction in [m]                                      |\n",
    "| trop_gradient_north       | numpy.ndarray  | Troposphere horizonatl gradients in North/South direction in [m]|\n",
    "| trop_gradient_north_sigma | numpy.ndarray  | Standard deviation of troposphere horizontal gradients in       |\n",
    "|                           |                | North/South direction in [m]                                    |\n",
    "| trop_zenith_dry           | numpy.ndarray  | Zenith hydrostatic/dry troposphere delay from a-priori model in |\n",
    "|                           |                | [m]                                                             |\n",
    "| trop_zenith_total         | numpy.ndarray  | Zenith total troposphere delay in [m]                           |\n",
    "| trop_zenith_wet           | numpy.ndarray  | Zenith wet troposphere delay (estimated part) in [m]            |\n",
    "| trop_zenith_wet_sigma     | numpy.ndarray  | Standard devivation of zenith wet troposphere delay in [m]      |"
   ]
  },
  {
   "cell_type": "code",
   "execution_count": null,
   "metadata": {},
   "outputs": [],
   "source": [
    "# Show dataset fields\n",
    "dset.fields"
   ]
  },
  {
   "cell_type": "code",
   "execution_count": null,
   "metadata": {},
   "outputs": [],
   "source": [
    "# Get data for a specific station by filtering dataset\n",
    "idx = dset.filter(station=\"adac\")\n",
    "\n",
    "print(\"STA  YYYY-MM-DD HH:MM:DD  ZWD     SIG_ZWD\")\n",
    "for sta, time, zwd, sig_zwd in zip(\n",
    "                    dset.station[idx], \n",
    "                    dset.time.datetime[idx], \n",
    "                    dset.trop_zenith_wet[idx],\n",
    "                    dset.trop_zenith_wet_sigma[idx],\n",
    "):\n",
    "    print(f\"{sta} {time.strftime('%Y-%m-%d %H:%M:%S')} {zwd:7.4f} {sig_zwd:7.4f}\")"
   ]
  },
  {
   "cell_type": "markdown",
   "metadata": {},
   "source": [
    "In the following it is shown how to plot the tropospheric solution parameters with **matplotlib**:"
   ]
  },
  {
   "cell_type": "code",
   "execution_count": null,
   "metadata": {},
   "outputs": [],
   "source": [
    "# Import plotting module\n",
    "import matplotlib.pyplot as plt\n",
    "\n",
    "# Choose station to plot\n",
    "station = \"adac\"\n",
    "\n",
    "# Generate index for given station, which is used to filter only data related to given station\n",
    "idx = dset.filter(station=station)\n",
    "\n",
    "# Plot scatter subplots figure\n",
    "fig, axs = plt.subplots(3,1, sharex=True, layout=\"constrained\")\n",
    "axs[0].plot(dset.time.datetime[idx], dset.trop_zenith_dry[idx], color=\"steelblue\") \n",
    "axs[1].plot(dset.time.datetime[idx], dset.trop_zenith_wet[idx], color=\"darkorange\") \n",
    "axs[2].plot(dset.time.datetime[idx], dset.trop_zenith_total[idx], color=\"limegreen\") \n",
    "axs[0].set_ylabel('ZHD [m]')\n",
    "axs[1].set_ylabel('ZWD [m]')\n",
    "axs[2].set_ylabel('ZTD [m]')\n",
    "axs[0].set_title(f\"Tropospheric solution parameters - {station.upper()}\")\n",
    "fig.autofmt_xdate()"
   ]
  },
  {
   "cell_type": "code",
   "execution_count": null,
   "metadata": {},
   "outputs": [],
   "source": []
  }
 ],
 "metadata": {
  "kernelspec": {
   "display_name": "Python 3 (ipykernel)",
   "language": "python",
   "name": "python3"
  },
  "language_info": {
   "codemirror_mode": {
    "name": "ipython",
    "version": 3
   },
   "file_extension": ".py",
   "mimetype": "text/x-python",
   "name": "python",
   "nbconvert_exporter": "python",
   "pygments_lexer": "ipython3",
   "version": "3.12.2"
  }
 },
 "nbformat": 4,
 "nbformat_minor": 4
}
