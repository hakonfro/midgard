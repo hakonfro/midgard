{
 "cells": [
  {
   "cell_type": "markdown",
   "metadata": {},
   "source": [
    "# Bernese parsers\n",
    "\n",
    "Examples are shown how to use some of following Midgard Bernese parsers:\n",
    "\n",
    "| Parser name        | Description                        |\n",
    "| :------------------| :--------------------------------- |\n",
    "| bernese_clu        | Bernese cluster file |\n",
    "| bernese_compar_out | Bernese coordinate comparison file | \n",
    "| bernese_crd        | Bernese station coordinate file |\n",
    "| bernese_prc        | Bernese protocol file |\n",
    "| bernese_slr_plt    | Bernese SLR plot file |\n",
    "| bernese_sta        | Bernese station information file |\n",
    "| bernese_trp        | Bernese troposphere solution file |"
   ]
  },
  {
   "cell_type": "markdown",
   "metadata": {},
   "source": [
    "## Use parsers module\n",
    "\n",
    "An example is shown, how to use the **parsers** module:"
   ]
  },
  {
   "cell_type": "code",
   "execution_count": 5,
   "metadata": {},
   "outputs": [
    {
     "data": {
      "text/plain": [
       "True"
      ]
     },
     "execution_count": 5,
     "metadata": {},
     "output_type": "execute_result"
    }
   ],
   "source": [
    "# Import parsers package\n",
    "from midgard import parsers\n",
    "\n",
    "# Read file by generating an instance of a Parser class\n",
    "p = parsers.parse_file(parser_name=\"bernese_crd\", file_path=\"../../tests/parsers/example_files/bernese_crd\")\n",
    "p.file_path.exist"
   ]
  },
  {
   "cell_type": "code",
   "execution_count": null,
   "metadata": {},
   "outputs": [],
   "source": []
  }
 ],
 "metadata": {
  "kernelspec": {
   "display_name": "Python 3 (ipykernel)",
   "language": "python",
   "name": "python3"
  },
  "language_info": {
   "codemirror_mode": {
    "name": "ipython",
    "version": 3
   },
   "file_extension": ".py",
   "mimetype": "text/x-python",
   "name": "python",
   "nbconvert_exporter": "python",
   "pygments_lexer": "ipython3",
   "version": "3.9.12"
  }
 },
 "nbformat": 4,
 "nbformat_minor": 2
}
