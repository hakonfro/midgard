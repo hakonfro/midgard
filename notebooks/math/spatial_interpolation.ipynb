{
 "cells": [
  {
   "cell_type": "markdown",
   "id": "77f610cf",
   "metadata": {},
   "source": [
    "# Spatial interpolation module\n",
    "\n",
    "The Midgard **math.spatial_interpolation** module provides functionality to carry out spatial interpolation."
   ]
  },
  {
   "cell_type": "markdown",
   "id": "6bd6e552",
   "metadata": {},
   "source": [
    "## Use spatial_interpolation module\n",
    "\n",
    "An example is shown, how to use the `math.spatial_interpolation.interpolate_for_position` function, whereby for given position the velocity is determined based on a grid file. As velocity model is the NKG_RF17vel used, which is given as a GeoTIFF file."
   ]
  },
  {
   "cell_type": "code",
   "execution_count": null,
   "id": "f2a8f0e8",
   "metadata": {},
   "outputs": [],
   "source": [
    "# Third party import\n",
    "# NOTE: THE RASTERIO MODULE ARE NOT PART OF MIDGARD INSTALLATION. THEY\n",
    "#       HAVE TO BE INSTALLED. THE MODULE IS USED TO READ GEOTIFF FILES.\n",
    "import numpy as np\n",
    "import rasterio\n",
    "\n",
    "# Import Position and Unit class and spatial interpolation module\n",
    "from midgard.data.position import Position\n",
    "from midgard.math import spatial_interpolation\n",
    "\n",
    "# Read GeoTIFF file with velocity information for a grid with position in \n",
    "# longitude and latitude given in radian\n",
    "data = rasterio.open(\"../examples/math/eur_nkg_nkgrf17vel.tif\")\n",
    "\n",
    "# Get x and y coordinates of grid points (pixel center), whereby in this case\n",
    "# x=longitude and y=latitude\n",
    "cols, rows = np.meshgrid(np.arange(data.width), np.arange(data.height))\n",
    "grid_lon, grid_lat = rasterio.transform.xy(data.transform, rows, cols)\n",
    "grid_lon = np.array(grid_lon)\n",
    "grid_lat = np.array(grid_lat)\n",
    "\n",
    "# Get position in latitude/longitude for which velocity should be determined\n",
    "pos = Position(val=[2102928.189605, 721619.617278, 5958196.398820], system=\"trs\")\n",
    "lat = np.rad2deg(pos.llh.lat)\n",
    "lon = np.rad2deg(pos.llh.lon)\n",
    "\n",
    "# Read VX, VY and VZ grid bands from GEOTIFF\n",
    "grid_ve = data.read(1) \n",
    "grid_vn = data.read(2) \n",
    "grid_vu = data.read(3) \n",
    "\n",
    "# Interpolate in VE, VN and VU grids for given position\n",
    "# Note: Either the \"RectBivariateSpline\" or \"griddata\" interpolation method can be chosen.\n",
    "ve = spatial_interpolation.interpolate_for_position(grid_lon, grid_lat, grid_ve, lon, lat, method=\"RectBivariateSpline\")  # Reference: -0.902 mm/yr\n",
    "vn = spatial_interpolation.interpolate_for_position(grid_lon, grid_lat, grid_vn, lon, lat, method=\"RectBivariateSpline\")  # Reference: 0.325 mm/yr\n",
    "vu = spatial_interpolation.interpolate_for_position(grid_lon, grid_lat, grid_vu, lon, lat, method=\"RectBivariateSpline\")  # Reference: 2.874 mm/yr\n",
    "\n",
    "print(f\"Velocity: ({ve:.4f}, {vn:.4f}, {vu:.4f}) mm/yr for LAT {lat:.3f} deg, LON {lon:.3f} deg)\")\n"
   ]
  },
  {
   "cell_type": "code",
   "execution_count": null,
   "id": "63dc5cf8-b1ab-4153-b612-f0340d61df72",
   "metadata": {},
   "outputs": [],
   "source": []
  }
 ],
 "metadata": {
  "kernelspec": {
   "display_name": "Python 3 (ipykernel)",
   "language": "python",
   "name": "python3"
  },
  "language_info": {
   "codemirror_mode": {
    "name": "ipython",
    "version": 3
   },
   "file_extension": ".py",
   "mimetype": "text/x-python",
   "name": "python",
   "nbconvert_exporter": "python",
   "pygments_lexer": "ipython3",
   "version": "3.12.2"
  }
 },
 "nbformat": 4,
 "nbformat_minor": 5
}
